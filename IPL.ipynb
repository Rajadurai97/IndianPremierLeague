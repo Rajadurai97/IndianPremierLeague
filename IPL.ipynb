{
  "nbformat": 4,
  "nbformat_minor": 0,
  "metadata": {
    "colab": {
      "name": "IPL.ipynb",
      "provenance": [],
      "collapsed_sections": [
        "uIQeY1LHOgD2",
        "NxVUojU21tw7",
        "cVcArH8Zr4Z9"
      ]
    },
    "kernelspec": {
      "display_name": "Python 3",
      "name": "python3"
    }
  },
  "cells": [
    {
      "cell_type": "markdown",
      "metadata": {
        "id": "3t3A8rOI9vrL"
      },
      "source": [
        "#**Task-5 : Exploratory Data Analysis**      \r\n",
        "  **INDIAN PREMIER LEAGUE** \r\n",
        "  \r\n",
        "  *By Rajadurai Thamizhmani*\r\n",
        "\r\n",
        "  **#GRIPDEC20**\r\n",
        "\r\n",
        "**Tasks :**\r\n",
        "\r\n",
        "\r\n",
        "1. As a sports analysts, find out the most successful teams, players and factors\r\n",
        "contributing win or loss of a team. \r\n",
        "\r\n",
        "2. Suggest teams or players a company should endorse for its products.\r\n"
      ]
    },
    {
      "cell_type": "code",
      "metadata": {
        "id": "k6V7SxyG9nAc",
        "colab": {
          "base_uri": "https://localhost:8080/"
        },
        "outputId": "47213c6b-c56c-4ecf-d610-037516272ae4"
      },
      "source": [
        "from google.colab import drive\r\n",
        "drive.mount('/content/drive')"
      ],
      "execution_count": null,
      "outputs": [
        {
          "output_type": "stream",
          "text": [
            "Drive already mounted at /content/drive; to attempt to forcibly remount, call drive.mount(\"/content/drive\", force_remount=True).\n"
          ],
          "name": "stdout"
        }
      ]
    },
    {
      "cell_type": "markdown",
      "metadata": {
        "id": "jwize1D5hMM_"
      },
      "source": [
        "#Importing the libraries"
      ]
    },
    {
      "cell_type": "code",
      "metadata": {
        "id": "L3fWpTwDuBKA"
      },
      "source": [
        "# Impoting the required packages\r\n",
        "import math\r\n",
        "import warnings\r\n",
        "import numpy as np # linear algebra\r\n",
        "import pandas as pd # data processing.\r\n",
        "import seaborn as sns\r\n",
        "import random\r\n",
        "import plotly.express as px\r\n",
        "import matplotlib.pyplot as plt #For plotting"
      ],
      "execution_count": null,
      "outputs": []
    },
    {
      "cell_type": "markdown",
      "metadata": {
        "id": "tkWy4y33hbe_"
      },
      "source": [
        "#Importing the datasets"
      ]
    },
    {
      "cell_type": "code",
      "metadata": {
        "id": "jqhZe0gBtUtm"
      },
      "source": [
        "# Importing the CSV file\r\n",
        "path ='/content/drive/My Drive/Colab Notebooks/datasets/Indianpremierleague/matches.csv'\r\n",
        "delivery = pd.read_csv(path)"
      ],
      "execution_count": null,
      "outputs": []
    },
    {
      "cell_type": "code",
      "metadata": {
        "id": "0vQRyWy6_nG-"
      },
      "source": [
        "path2 = '/content/drive/My Drive/Colab Notebooks/datasets/Indianpremierleague/deliveries.csv'\r\n",
        "match = pd.read_csv(path2)"
      ],
      "execution_count": null,
      "outputs": []
    },
    {
      "cell_type": "code",
      "metadata": {
        "id": "ks6l5eFPD658",
        "colab": {
          "base_uri": "https://localhost:8080/"
        },
        "outputId": "73f8224c-1142-42c0-90c8-72786e788256"
      },
      "source": [
        "delivery.info()\r\n",
        "match.info()"
      ],
      "execution_count": null,
      "outputs": [
        {
          "output_type": "stream",
          "text": [
            "<class 'pandas.core.frame.DataFrame'>\n",
            "RangeIndex: 756 entries, 0 to 755\n",
            "Data columns (total 18 columns):\n",
            " #   Column           Non-Null Count  Dtype \n",
            "---  ------           --------------  ----- \n",
            " 0   id               756 non-null    int64 \n",
            " 1   season           756 non-null    int64 \n",
            " 2   city             749 non-null    object\n",
            " 3   date             756 non-null    object\n",
            " 4   team1            756 non-null    object\n",
            " 5   team2            756 non-null    object\n",
            " 6   toss_winner      756 non-null    object\n",
            " 7   toss_decision    756 non-null    object\n",
            " 8   result           756 non-null    object\n",
            " 9   dl_applied       756 non-null    int64 \n",
            " 10  winner           752 non-null    object\n",
            " 11  win_by_runs      756 non-null    int64 \n",
            " 12  win_by_wickets   756 non-null    int64 \n",
            " 13  player_of_match  752 non-null    object\n",
            " 14  venue            756 non-null    object\n",
            " 15  umpire1          754 non-null    object\n",
            " 16  umpire2          754 non-null    object\n",
            " 17  umpire3          119 non-null    object\n",
            "dtypes: int64(5), object(13)\n",
            "memory usage: 106.4+ KB\n",
            "<class 'pandas.core.frame.DataFrame'>\n",
            "RangeIndex: 179078 entries, 0 to 179077\n",
            "Data columns (total 21 columns):\n",
            " #   Column            Non-Null Count   Dtype \n",
            "---  ------            --------------   ----- \n",
            " 0   match_id          179078 non-null  int64 \n",
            " 1   inning            179078 non-null  int64 \n",
            " 2   batting_team      179078 non-null  object\n",
            " 3   bowling_team      179078 non-null  object\n",
            " 4   over              179078 non-null  int64 \n",
            " 5   ball              179078 non-null  int64 \n",
            " 6   batsman           179078 non-null  object\n",
            " 7   non_striker       179078 non-null  object\n",
            " 8   bowler            179078 non-null  object\n",
            " 9   is_super_over     179078 non-null  int64 \n",
            " 10  wide_runs         179078 non-null  int64 \n",
            " 11  bye_runs          179078 non-null  int64 \n",
            " 12  legbye_runs       179078 non-null  int64 \n",
            " 13  noball_runs       179078 non-null  int64 \n",
            " 14  penalty_runs      179078 non-null  int64 \n",
            " 15  batsman_runs      179078 non-null  int64 \n",
            " 16  extra_runs        179078 non-null  int64 \n",
            " 17  total_runs        179078 non-null  int64 \n",
            " 18  player_dismissed  8834 non-null    object\n",
            " 19  dismissal_kind    8834 non-null    object\n",
            " 20  fielder           6448 non-null    object\n",
            "dtypes: int64(13), object(8)\n",
            "memory usage: 28.7+ MB\n"
          ],
          "name": "stdout"
        }
      ]
    },
    {
      "cell_type": "code",
      "metadata": {
        "id": "xo0sk5oqtVJM",
        "colab": {
          "base_uri": "https://localhost:8080/",
          "height": 434
        },
        "outputId": "5a2c985d-10af-428c-8c8c-734980a006ec"
      },
      "source": [
        "delivery.head(5)"
      ],
      "execution_count": null,
      "outputs": [
        {
          "output_type": "execute_result",
          "data": {
            "text/html": [
              "<div>\n",
              "<style scoped>\n",
              "    .dataframe tbody tr th:only-of-type {\n",
              "        vertical-align: middle;\n",
              "    }\n",
              "\n",
              "    .dataframe tbody tr th {\n",
              "        vertical-align: top;\n",
              "    }\n",
              "\n",
              "    .dataframe thead th {\n",
              "        text-align: right;\n",
              "    }\n",
              "</style>\n",
              "<table border=\"1\" class=\"dataframe\">\n",
              "  <thead>\n",
              "    <tr style=\"text-align: right;\">\n",
              "      <th></th>\n",
              "      <th>id</th>\n",
              "      <th>season</th>\n",
              "      <th>city</th>\n",
              "      <th>date</th>\n",
              "      <th>team1</th>\n",
              "      <th>team2</th>\n",
              "      <th>toss_winner</th>\n",
              "      <th>toss_decision</th>\n",
              "      <th>result</th>\n",
              "      <th>dl_applied</th>\n",
              "      <th>winner</th>\n",
              "      <th>win_by_runs</th>\n",
              "      <th>win_by_wickets</th>\n",
              "      <th>player_of_match</th>\n",
              "      <th>venue</th>\n",
              "      <th>umpire1</th>\n",
              "      <th>umpire2</th>\n",
              "      <th>umpire3</th>\n",
              "    </tr>\n",
              "  </thead>\n",
              "  <tbody>\n",
              "    <tr>\n",
              "      <th>0</th>\n",
              "      <td>1</td>\n",
              "      <td>2017</td>\n",
              "      <td>Hyderabad</td>\n",
              "      <td>2017-04-05</td>\n",
              "      <td>Sunrisers Hyderabad</td>\n",
              "      <td>Royal Challengers Bangalore</td>\n",
              "      <td>Royal Challengers Bangalore</td>\n",
              "      <td>field</td>\n",
              "      <td>normal</td>\n",
              "      <td>0</td>\n",
              "      <td>Sunrisers Hyderabad</td>\n",
              "      <td>35</td>\n",
              "      <td>0</td>\n",
              "      <td>Yuvraj Singh</td>\n",
              "      <td>Rajiv Gandhi International Stadium, Uppal</td>\n",
              "      <td>AY Dandekar</td>\n",
              "      <td>NJ Llong</td>\n",
              "      <td>NaN</td>\n",
              "    </tr>\n",
              "    <tr>\n",
              "      <th>1</th>\n",
              "      <td>2</td>\n",
              "      <td>2017</td>\n",
              "      <td>Pune</td>\n",
              "      <td>2017-04-06</td>\n",
              "      <td>Mumbai Indians</td>\n",
              "      <td>Rising Pune Supergiant</td>\n",
              "      <td>Rising Pune Supergiant</td>\n",
              "      <td>field</td>\n",
              "      <td>normal</td>\n",
              "      <td>0</td>\n",
              "      <td>Rising Pune Supergiant</td>\n",
              "      <td>0</td>\n",
              "      <td>7</td>\n",
              "      <td>SPD Smith</td>\n",
              "      <td>Maharashtra Cricket Association Stadium</td>\n",
              "      <td>A Nand Kishore</td>\n",
              "      <td>S Ravi</td>\n",
              "      <td>NaN</td>\n",
              "    </tr>\n",
              "    <tr>\n",
              "      <th>2</th>\n",
              "      <td>3</td>\n",
              "      <td>2017</td>\n",
              "      <td>Rajkot</td>\n",
              "      <td>2017-04-07</td>\n",
              "      <td>Gujarat Lions</td>\n",
              "      <td>Kolkata Knight Riders</td>\n",
              "      <td>Kolkata Knight Riders</td>\n",
              "      <td>field</td>\n",
              "      <td>normal</td>\n",
              "      <td>0</td>\n",
              "      <td>Kolkata Knight Riders</td>\n",
              "      <td>0</td>\n",
              "      <td>10</td>\n",
              "      <td>CA Lynn</td>\n",
              "      <td>Saurashtra Cricket Association Stadium</td>\n",
              "      <td>Nitin Menon</td>\n",
              "      <td>CK Nandan</td>\n",
              "      <td>NaN</td>\n",
              "    </tr>\n",
              "    <tr>\n",
              "      <th>3</th>\n",
              "      <td>4</td>\n",
              "      <td>2017</td>\n",
              "      <td>Indore</td>\n",
              "      <td>2017-04-08</td>\n",
              "      <td>Rising Pune Supergiant</td>\n",
              "      <td>Kings XI Punjab</td>\n",
              "      <td>Kings XI Punjab</td>\n",
              "      <td>field</td>\n",
              "      <td>normal</td>\n",
              "      <td>0</td>\n",
              "      <td>Kings XI Punjab</td>\n",
              "      <td>0</td>\n",
              "      <td>6</td>\n",
              "      <td>GJ Maxwell</td>\n",
              "      <td>Holkar Cricket Stadium</td>\n",
              "      <td>AK Chaudhary</td>\n",
              "      <td>C Shamshuddin</td>\n",
              "      <td>NaN</td>\n",
              "    </tr>\n",
              "    <tr>\n",
              "      <th>4</th>\n",
              "      <td>5</td>\n",
              "      <td>2017</td>\n",
              "      <td>Bangalore</td>\n",
              "      <td>2017-04-08</td>\n",
              "      <td>Royal Challengers Bangalore</td>\n",
              "      <td>Delhi Daredevils</td>\n",
              "      <td>Royal Challengers Bangalore</td>\n",
              "      <td>bat</td>\n",
              "      <td>normal</td>\n",
              "      <td>0</td>\n",
              "      <td>Royal Challengers Bangalore</td>\n",
              "      <td>15</td>\n",
              "      <td>0</td>\n",
              "      <td>KM Jadhav</td>\n",
              "      <td>M Chinnaswamy Stadium</td>\n",
              "      <td>NaN</td>\n",
              "      <td>NaN</td>\n",
              "      <td>NaN</td>\n",
              "    </tr>\n",
              "  </tbody>\n",
              "</table>\n",
              "</div>"
            ],
            "text/plain": [
              "   id  season       city  ...         umpire1        umpire2 umpire3\n",
              "0   1    2017  Hyderabad  ...     AY Dandekar       NJ Llong     NaN\n",
              "1   2    2017       Pune  ...  A Nand Kishore         S Ravi     NaN\n",
              "2   3    2017     Rajkot  ...     Nitin Menon      CK Nandan     NaN\n",
              "3   4    2017     Indore  ...    AK Chaudhary  C Shamshuddin     NaN\n",
              "4   5    2017  Bangalore  ...             NaN            NaN     NaN\n",
              "\n",
              "[5 rows x 18 columns]"
            ]
          },
          "metadata": {
            "tags": []
          },
          "execution_count": 6
        }
      ]
    },
    {
      "cell_type": "code",
      "metadata": {
        "id": "5cx4k4AdAW_j",
        "colab": {
          "base_uri": "https://localhost:8080/",
          "height": 384
        },
        "outputId": "1eabf3d3-5166-4de0-a092-3855d4f990e0"
      },
      "source": [
        "match.head(5)"
      ],
      "execution_count": null,
      "outputs": [
        {
          "output_type": "execute_result",
          "data": {
            "text/html": [
              "<div>\n",
              "<style scoped>\n",
              "    .dataframe tbody tr th:only-of-type {\n",
              "        vertical-align: middle;\n",
              "    }\n",
              "\n",
              "    .dataframe tbody tr th {\n",
              "        vertical-align: top;\n",
              "    }\n",
              "\n",
              "    .dataframe thead th {\n",
              "        text-align: right;\n",
              "    }\n",
              "</style>\n",
              "<table border=\"1\" class=\"dataframe\">\n",
              "  <thead>\n",
              "    <tr style=\"text-align: right;\">\n",
              "      <th></th>\n",
              "      <th>match_id</th>\n",
              "      <th>inning</th>\n",
              "      <th>batting_team</th>\n",
              "      <th>bowling_team</th>\n",
              "      <th>over</th>\n",
              "      <th>ball</th>\n",
              "      <th>batsman</th>\n",
              "      <th>non_striker</th>\n",
              "      <th>bowler</th>\n",
              "      <th>is_super_over</th>\n",
              "      <th>wide_runs</th>\n",
              "      <th>bye_runs</th>\n",
              "      <th>legbye_runs</th>\n",
              "      <th>noball_runs</th>\n",
              "      <th>penalty_runs</th>\n",
              "      <th>batsman_runs</th>\n",
              "      <th>extra_runs</th>\n",
              "      <th>total_runs</th>\n",
              "      <th>player_dismissed</th>\n",
              "      <th>dismissal_kind</th>\n",
              "      <th>fielder</th>\n",
              "    </tr>\n",
              "  </thead>\n",
              "  <tbody>\n",
              "    <tr>\n",
              "      <th>0</th>\n",
              "      <td>1</td>\n",
              "      <td>1</td>\n",
              "      <td>Sunrisers Hyderabad</td>\n",
              "      <td>Royal Challengers Bangalore</td>\n",
              "      <td>1</td>\n",
              "      <td>1</td>\n",
              "      <td>DA Warner</td>\n",
              "      <td>S Dhawan</td>\n",
              "      <td>TS Mills</td>\n",
              "      <td>0</td>\n",
              "      <td>0</td>\n",
              "      <td>0</td>\n",
              "      <td>0</td>\n",
              "      <td>0</td>\n",
              "      <td>0</td>\n",
              "      <td>0</td>\n",
              "      <td>0</td>\n",
              "      <td>0</td>\n",
              "      <td>NaN</td>\n",
              "      <td>NaN</td>\n",
              "      <td>NaN</td>\n",
              "    </tr>\n",
              "    <tr>\n",
              "      <th>1</th>\n",
              "      <td>1</td>\n",
              "      <td>1</td>\n",
              "      <td>Sunrisers Hyderabad</td>\n",
              "      <td>Royal Challengers Bangalore</td>\n",
              "      <td>1</td>\n",
              "      <td>2</td>\n",
              "      <td>DA Warner</td>\n",
              "      <td>S Dhawan</td>\n",
              "      <td>TS Mills</td>\n",
              "      <td>0</td>\n",
              "      <td>0</td>\n",
              "      <td>0</td>\n",
              "      <td>0</td>\n",
              "      <td>0</td>\n",
              "      <td>0</td>\n",
              "      <td>0</td>\n",
              "      <td>0</td>\n",
              "      <td>0</td>\n",
              "      <td>NaN</td>\n",
              "      <td>NaN</td>\n",
              "      <td>NaN</td>\n",
              "    </tr>\n",
              "    <tr>\n",
              "      <th>2</th>\n",
              "      <td>1</td>\n",
              "      <td>1</td>\n",
              "      <td>Sunrisers Hyderabad</td>\n",
              "      <td>Royal Challengers Bangalore</td>\n",
              "      <td>1</td>\n",
              "      <td>3</td>\n",
              "      <td>DA Warner</td>\n",
              "      <td>S Dhawan</td>\n",
              "      <td>TS Mills</td>\n",
              "      <td>0</td>\n",
              "      <td>0</td>\n",
              "      <td>0</td>\n",
              "      <td>0</td>\n",
              "      <td>0</td>\n",
              "      <td>0</td>\n",
              "      <td>4</td>\n",
              "      <td>0</td>\n",
              "      <td>4</td>\n",
              "      <td>NaN</td>\n",
              "      <td>NaN</td>\n",
              "      <td>NaN</td>\n",
              "    </tr>\n",
              "    <tr>\n",
              "      <th>3</th>\n",
              "      <td>1</td>\n",
              "      <td>1</td>\n",
              "      <td>Sunrisers Hyderabad</td>\n",
              "      <td>Royal Challengers Bangalore</td>\n",
              "      <td>1</td>\n",
              "      <td>4</td>\n",
              "      <td>DA Warner</td>\n",
              "      <td>S Dhawan</td>\n",
              "      <td>TS Mills</td>\n",
              "      <td>0</td>\n",
              "      <td>0</td>\n",
              "      <td>0</td>\n",
              "      <td>0</td>\n",
              "      <td>0</td>\n",
              "      <td>0</td>\n",
              "      <td>0</td>\n",
              "      <td>0</td>\n",
              "      <td>0</td>\n",
              "      <td>NaN</td>\n",
              "      <td>NaN</td>\n",
              "      <td>NaN</td>\n",
              "    </tr>\n",
              "    <tr>\n",
              "      <th>4</th>\n",
              "      <td>1</td>\n",
              "      <td>1</td>\n",
              "      <td>Sunrisers Hyderabad</td>\n",
              "      <td>Royal Challengers Bangalore</td>\n",
              "      <td>1</td>\n",
              "      <td>5</td>\n",
              "      <td>DA Warner</td>\n",
              "      <td>S Dhawan</td>\n",
              "      <td>TS Mills</td>\n",
              "      <td>0</td>\n",
              "      <td>2</td>\n",
              "      <td>0</td>\n",
              "      <td>0</td>\n",
              "      <td>0</td>\n",
              "      <td>0</td>\n",
              "      <td>0</td>\n",
              "      <td>2</td>\n",
              "      <td>2</td>\n",
              "      <td>NaN</td>\n",
              "      <td>NaN</td>\n",
              "      <td>NaN</td>\n",
              "    </tr>\n",
              "  </tbody>\n",
              "</table>\n",
              "</div>"
            ],
            "text/plain": [
              "   match_id  inning  ... dismissal_kind fielder\n",
              "0         1       1  ...            NaN     NaN\n",
              "1         1       1  ...            NaN     NaN\n",
              "2         1       1  ...            NaN     NaN\n",
              "3         1       1  ...            NaN     NaN\n",
              "4         1       1  ...            NaN     NaN\n",
              "\n",
              "[5 rows x 21 columns]"
            ]
          },
          "metadata": {
            "tags": []
          },
          "execution_count": 7
        }
      ]
    },
    {
      "cell_type": "markdown",
      "metadata": {
        "id": "ZEv8snLzh7Oz"
      },
      "source": [
        "#Data Features"
      ]
    },
    {
      "cell_type": "code",
      "metadata": {
        "id": "Lsp5QqU5tVVZ",
        "colab": {
          "base_uri": "https://localhost:8080/"
        },
        "outputId": "5e182032-7cdb-446b-f566-b9560e725a5b"
      },
      "source": [
        "delivery.columns"
      ],
      "execution_count": null,
      "outputs": [
        {
          "output_type": "execute_result",
          "data": {
            "text/plain": [
              "Index(['id', 'season', 'city', 'date', 'team1', 'team2', 'toss_winner',\n",
              "       'toss_decision', 'result', 'dl_applied', 'winner', 'win_by_runs',\n",
              "       'win_by_wickets', 'player_of_match', 'venue', 'umpire1', 'umpire2',\n",
              "       'umpire3'],\n",
              "      dtype='object')"
            ]
          },
          "metadata": {
            "tags": []
          },
          "execution_count": 8
        }
      ]
    },
    {
      "cell_type": "code",
      "metadata": {
        "id": "bh-2qJ_dho4X",
        "colab": {
          "base_uri": "https://localhost:8080/"
        },
        "outputId": "7b259509-54ef-4bc1-b217-c8126ef4eddd"
      },
      "source": [
        "match.columns"
      ],
      "execution_count": null,
      "outputs": [
        {
          "output_type": "execute_result",
          "data": {
            "text/plain": [
              "Index(['match_id', 'inning', 'batting_team', 'bowling_team', 'over', 'ball',\n",
              "       'batsman', 'non_striker', 'bowler', 'is_super_over', 'wide_runs',\n",
              "       'bye_runs', 'legbye_runs', 'noball_runs', 'penalty_runs',\n",
              "       'batsman_runs', 'extra_runs', 'total_runs', 'player_dismissed',\n",
              "       'dismissal_kind', 'fielder'],\n",
              "      dtype='object')"
            ]
          },
          "metadata": {
            "tags": []
          },
          "execution_count": 9
        }
      ]
    },
    {
      "cell_type": "markdown",
      "metadata": {
        "id": "CY6H8L56iCF2"
      },
      "source": [
        "#Checking null values"
      ]
    },
    {
      "cell_type": "code",
      "metadata": {
        "id": "C0VPdAwnzjeO",
        "colab": {
          "base_uri": "https://localhost:8080/"
        },
        "outputId": "d9e55f91-32e9-4c71-c438-ab17c9160f3f"
      },
      "source": [
        "delivery.isnull().sum()"
      ],
      "execution_count": null,
      "outputs": [
        {
          "output_type": "execute_result",
          "data": {
            "text/plain": [
              "id                   0\n",
              "season               0\n",
              "city                 7\n",
              "date                 0\n",
              "team1                0\n",
              "team2                0\n",
              "toss_winner          0\n",
              "toss_decision        0\n",
              "result               0\n",
              "dl_applied           0\n",
              "winner               4\n",
              "win_by_runs          0\n",
              "win_by_wickets       0\n",
              "player_of_match      4\n",
              "venue                0\n",
              "umpire1              2\n",
              "umpire2              2\n",
              "umpire3            637\n",
              "dtype: int64"
            ]
          },
          "metadata": {
            "tags": []
          },
          "execution_count": 10
        }
      ]
    },
    {
      "cell_type": "code",
      "metadata": {
        "id": "NO0hnpQnhwlT",
        "colab": {
          "base_uri": "https://localhost:8080/"
        },
        "outputId": "3389c405-a9f5-4bf9-8d8b-e3c32c1f189c"
      },
      "source": [
        "match.isnull().sum()"
      ],
      "execution_count": null,
      "outputs": [
        {
          "output_type": "execute_result",
          "data": {
            "text/plain": [
              "match_id                 0\n",
              "inning                   0\n",
              "batting_team             0\n",
              "bowling_team             0\n",
              "over                     0\n",
              "ball                     0\n",
              "batsman                  0\n",
              "non_striker              0\n",
              "bowler                   0\n",
              "is_super_over            0\n",
              "wide_runs                0\n",
              "bye_runs                 0\n",
              "legbye_runs              0\n",
              "noball_runs              0\n",
              "penalty_runs             0\n",
              "batsman_runs             0\n",
              "extra_runs               0\n",
              "total_runs               0\n",
              "player_dismissed    170244\n",
              "dismissal_kind      170244\n",
              "fielder             172630\n",
              "dtype: int64"
            ]
          },
          "metadata": {
            "tags": []
          },
          "execution_count": 11
        }
      ]
    },
    {
      "cell_type": "markdown",
      "metadata": {
        "id": "FeUcNMrVQzQg"
      },
      "source": [
        "#Data Preprocessing"
      ]
    },
    {
      "cell_type": "markdown",
      "metadata": {
        "id": "YFoCv8rzRLAQ"
      },
      "source": [
        "**fill missing values**"
      ]
    },
    {
      "cell_type": "code",
      "metadata": {
        "id": "F65rKqhHOKOf"
      },
      "source": [
        "delivery['city'].fillna(delivery['venue'], inplace = True)\r\n",
        "delivery['winner'].fillna(delivery['result'], inplace = True)\r\n",
        "delivery['player_of_match'].fillna(delivery['result'], inplace = True)\r\n",
        "delivery['umpire1'].fillna('unknown', inplace = True)\r\n",
        "delivery['umpire2'].fillna('unknown', inplace = True)\r\n",
        "delivery.drop('umpire3', axis=1, inplace=True)"
      ],
      "execution_count": null,
      "outputs": []
    },
    {
      "cell_type": "code",
      "metadata": {
        "colab": {
          "base_uri": "https://localhost:8080/"
        },
        "id": "YfoVvJoEQmi7",
        "outputId": "39f04ef1-58a1-4b46-f65d-33f86f6952d1"
      },
      "source": [
        "print(delivery['winner'].unique())"
      ],
      "execution_count": null,
      "outputs": [
        {
          "output_type": "stream",
          "text": [
            "['Sunrisers Hyderabad' 'Rising Pune Supergiant' 'Kolkata Knight Riders'\n",
            " 'Kings XI Punjab' 'Royal Challengers Bangalore' 'Mumbai Indians'\n",
            " 'Delhi Daredevils' 'Gujarat Lions' 'Chennai Super Kings'\n",
            " 'Rajasthan Royals' 'Deccan Chargers' 'Pune Warriors'\n",
            " 'Kochi Tuskers Kerala' 'no result' 'Rising Pune Supergiants'\n",
            " 'Delhi Capitals']\n"
          ],
          "name": "stdout"
        }
      ]
    },
    {
      "cell_type": "markdown",
      "metadata": {
        "id": "ll-Tsg6JQmBf"
      },
      "source": [
        "**There is some repeated values as wel which is due to improper data cleaning which can be fixed.**"
      ]
    },
    {
      "cell_type": "code",
      "metadata": {
        "id": "1HkHTixKQeO8"
      },
      "source": [
        "delivery.replace('Bangalore','Bengaluru', inplace = True)\r\n",
        "delivery.team1.replace({'Rising Pune Supergiants' : 'Rising Pune Supergiant'},regex=True,inplace=True)\r\n",
        "delivery.team2.replace({'Rising Pune Supergiants' : 'Rising Pune Supergiant'},regex=True,inplace=True)\r\n",
        "delivery.winner.replace({'Rising Pune Supergiants' : 'Rising Pune Supergiant'},regex=True,inplace=True)\r\n",
        "delivery.venue.replace({'Feroz Shah Kotla Ground':'Feroz Shah Kotla',\r\n",
        "                    'M Chinnaswamy Stadium':'M. Chinnaswamy Stadium',\r\n",
        "                    'MA Chidambaram Stadium, Chepauk':'M.A. Chidambaram Stadium',\r\n",
        "                     'M. A. Chidambaram Stadium':'M.A. Chidambaram Stadium',\r\n",
        "                     'Punjab Cricket Association IS Bindra Stadium, Mohali':'Punjab Cricket Association Stadium',\r\n",
        "                     'Punjab Cricket Association Stadium, Mohali':'Punjab Cricket Association Stadium',\r\n",
        "                     'IS Bindra Stadium':'Punjab Cricket Association Stadium',\r\n",
        "                    'Rajiv Gandhi International Stadium, Uppal':'Rajiv Gandhi International Stadium',\r\n",
        "                    'Rajiv Gandhi Intl. Cricket Stadium':'Rajiv Gandhi International Stadium'},regex=True,inplace=True)"
      ],
      "execution_count": null,
      "outputs": []
    },
    {
      "cell_type": "markdown",
      "metadata": {
        "id": "AoCRIH5gQ5d6"
      },
      "source": [
        "#Exploratory Data Analysis"
      ]
    },
    {
      "cell_type": "markdown",
      "metadata": {
        "id": "Bbah1sKecKtH"
      },
      "source": [
        "**Total number of matches**"
      ]
    },
    {
      "cell_type": "code",
      "metadata": {
        "colab": {
          "base_uri": "https://localhost:8080/"
        },
        "id": "F3NnzT0j7bu7",
        "outputId": "6dd9ff99-411f-419e-9de5-29a4cff177c5"
      },
      "source": [
        "delivery['id'].count()"
      ],
      "execution_count": null,
      "outputs": [
        {
          "output_type": "execute_result",
          "data": {
            "text/plain": [
              "756"
            ]
          },
          "metadata": {
            "tags": []
          },
          "execution_count": 15
        }
      ]
    },
    {
      "cell_type": "markdown",
      "metadata": {
        "id": "t_03PO4ZRnAc"
      },
      "source": [
        "**Total number of seasons**"
      ]
    },
    {
      "cell_type": "code",
      "metadata": {
        "colab": {
          "base_uri": "https://localhost:8080/"
        },
        "id": "PuPJLqSZ7bh1",
        "outputId": "59385c44-5208-485d-f49f-ecaba3595dcb"
      },
      "source": [
        "delivery['season'].unique()"
      ],
      "execution_count": null,
      "outputs": [
        {
          "output_type": "execute_result",
          "data": {
            "text/plain": [
              "array([2017, 2008, 2009, 2010, 2011, 2012, 2013, 2014, 2015, 2016, 2018,\n",
              "       2019])"
            ]
          },
          "metadata": {
            "tags": []
          },
          "execution_count": 16
        }
      ]
    },
    {
      "cell_type": "markdown",
      "metadata": {
        "id": "Sit2L8xjgjJM"
      },
      "source": [
        "**Total number of matches every team played and their categories of Winning & Losss**"
      ]
    },
    {
      "cell_type": "code",
      "metadata": {
        "colab": {
          "base_uri": "https://localhost:8080/",
          "height": 467
        },
        "id": "vU3C-0rSgSwG",
        "outputId": "118134e4-8c03-4f71-f3df-c4a3684e3e20"
      },
      "source": [
        "team_wins = pd.DataFrame((team,delivery[(delivery['team1']==team)|(delivery['team2']==team)].shape[0],\r\n",
        "                          delivery[delivery['winner']==team].shape[0]) for team in delivery['team1'].unique())\r\n",
        "team_wins.columns = ['Team', 'Played_match', 'Wins_match']\r\n",
        "team_wins = team_wins.sort_values(by='Played_match', ascending=False)\r\n",
        "\r\n",
        "team_wins['loss_match'] = round(team_wins['Wins_match'] - team_wins['Played_match'])\r\n",
        "team_wins['Win_percent'] = round(team_wins['Wins_match']*100 / team_wins['Played_match'],2)\r\n",
        "team_wins"
      ],
      "execution_count": null,
      "outputs": [
        {
          "output_type": "execute_result",
          "data": {
            "text/html": [
              "<div>\n",
              "<style scoped>\n",
              "    .dataframe tbody tr th:only-of-type {\n",
              "        vertical-align: middle;\n",
              "    }\n",
              "\n",
              "    .dataframe tbody tr th {\n",
              "        vertical-align: top;\n",
              "    }\n",
              "\n",
              "    .dataframe thead th {\n",
              "        text-align: right;\n",
              "    }\n",
              "</style>\n",
              "<table border=\"1\" class=\"dataframe\">\n",
              "  <thead>\n",
              "    <tr style=\"text-align: right;\">\n",
              "      <th></th>\n",
              "      <th>Team</th>\n",
              "      <th>Played_match</th>\n",
              "      <th>Wins_match</th>\n",
              "      <th>loss_match</th>\n",
              "      <th>Win_percent</th>\n",
              "    </tr>\n",
              "  </thead>\n",
              "  <tbody>\n",
              "    <tr>\n",
              "      <th>1</th>\n",
              "      <td>Mumbai Indians</td>\n",
              "      <td>187</td>\n",
              "      <td>109</td>\n",
              "      <td>-78</td>\n",
              "      <td>58.29</td>\n",
              "    </tr>\n",
              "    <tr>\n",
              "      <th>4</th>\n",
              "      <td>Royal Challengers Bangalore</td>\n",
              "      <td>180</td>\n",
              "      <td>84</td>\n",
              "      <td>-96</td>\n",
              "      <td>46.67</td>\n",
              "    </tr>\n",
              "    <tr>\n",
              "      <th>5</th>\n",
              "      <td>Kolkata Knight Riders</td>\n",
              "      <td>178</td>\n",
              "      <td>92</td>\n",
              "      <td>-86</td>\n",
              "      <td>51.69</td>\n",
              "    </tr>\n",
              "    <tr>\n",
              "      <th>7</th>\n",
              "      <td>Kings XI Punjab</td>\n",
              "      <td>176</td>\n",
              "      <td>82</td>\n",
              "      <td>-94</td>\n",
              "      <td>46.59</td>\n",
              "    </tr>\n",
              "    <tr>\n",
              "      <th>8</th>\n",
              "      <td>Chennai Super Kings</td>\n",
              "      <td>164</td>\n",
              "      <td>100</td>\n",
              "      <td>-64</td>\n",
              "      <td>60.98</td>\n",
              "    </tr>\n",
              "    <tr>\n",
              "      <th>6</th>\n",
              "      <td>Delhi Daredevils</td>\n",
              "      <td>161</td>\n",
              "      <td>67</td>\n",
              "      <td>-94</td>\n",
              "      <td>41.61</td>\n",
              "    </tr>\n",
              "    <tr>\n",
              "      <th>9</th>\n",
              "      <td>Rajasthan Royals</td>\n",
              "      <td>147</td>\n",
              "      <td>75</td>\n",
              "      <td>-72</td>\n",
              "      <td>51.02</td>\n",
              "    </tr>\n",
              "    <tr>\n",
              "      <th>0</th>\n",
              "      <td>Sunrisers Hyderabad</td>\n",
              "      <td>108</td>\n",
              "      <td>58</td>\n",
              "      <td>-50</td>\n",
              "      <td>53.70</td>\n",
              "    </tr>\n",
              "    <tr>\n",
              "      <th>10</th>\n",
              "      <td>Deccan Chargers</td>\n",
              "      <td>75</td>\n",
              "      <td>29</td>\n",
              "      <td>-46</td>\n",
              "      <td>38.67</td>\n",
              "    </tr>\n",
              "    <tr>\n",
              "      <th>12</th>\n",
              "      <td>Pune Warriors</td>\n",
              "      <td>46</td>\n",
              "      <td>12</td>\n",
              "      <td>-34</td>\n",
              "      <td>26.09</td>\n",
              "    </tr>\n",
              "    <tr>\n",
              "      <th>2</th>\n",
              "      <td>Gujarat Lions</td>\n",
              "      <td>30</td>\n",
              "      <td>13</td>\n",
              "      <td>-17</td>\n",
              "      <td>43.33</td>\n",
              "    </tr>\n",
              "    <tr>\n",
              "      <th>3</th>\n",
              "      <td>Rising Pune Supergiant</td>\n",
              "      <td>30</td>\n",
              "      <td>15</td>\n",
              "      <td>-15</td>\n",
              "      <td>50.00</td>\n",
              "    </tr>\n",
              "    <tr>\n",
              "      <th>13</th>\n",
              "      <td>Delhi Capitals</td>\n",
              "      <td>16</td>\n",
              "      <td>10</td>\n",
              "      <td>-6</td>\n",
              "      <td>62.50</td>\n",
              "    </tr>\n",
              "    <tr>\n",
              "      <th>11</th>\n",
              "      <td>Kochi Tuskers Kerala</td>\n",
              "      <td>14</td>\n",
              "      <td>6</td>\n",
              "      <td>-8</td>\n",
              "      <td>42.86</td>\n",
              "    </tr>\n",
              "  </tbody>\n",
              "</table>\n",
              "</div>"
            ],
            "text/plain": [
              "                           Team  Played_match  ...  loss_match  Win_percent\n",
              "1                Mumbai Indians           187  ...         -78        58.29\n",
              "4   Royal Challengers Bangalore           180  ...         -96        46.67\n",
              "5         Kolkata Knight Riders           178  ...         -86        51.69\n",
              "7               Kings XI Punjab           176  ...         -94        46.59\n",
              "8           Chennai Super Kings           164  ...         -64        60.98\n",
              "6              Delhi Daredevils           161  ...         -94        41.61\n",
              "9              Rajasthan Royals           147  ...         -72        51.02\n",
              "0           Sunrisers Hyderabad           108  ...         -50        53.70\n",
              "10              Deccan Chargers            75  ...         -46        38.67\n",
              "12                Pune Warriors            46  ...         -34        26.09\n",
              "2                 Gujarat Lions            30  ...         -17        43.33\n",
              "3        Rising Pune Supergiant            30  ...         -15        50.00\n",
              "13               Delhi Capitals            16  ...          -6        62.50\n",
              "11         Kochi Tuskers Kerala            14  ...          -8        42.86\n",
              "\n",
              "[14 rows x 5 columns]"
            ]
          },
          "metadata": {
            "tags": []
          },
          "execution_count": 17
        }
      ]
    },
    {
      "cell_type": "markdown",
      "metadata": {
        "id": "8hHKmtxZRy02"
      },
      "source": [
        "**Matches played in each season**"
      ]
    },
    {
      "cell_type": "code",
      "metadata": {
        "id": "TsGLaCEdIeTb",
        "colab": {
          "base_uri": "https://localhost:8080/",
          "height": 496
        },
        "outputId": "b5d24218-7a23-4985-f3d3-31fc56696d8c"
      },
      "source": [
        "fig_dims=(20,8)\r\n",
        "plt.subplots(figsize=fig_dims)\r\n",
        "sns.countplot(x=delivery['season'],data=delivery,palette='Set1')\r\n",
        "plt.show()"
      ],
      "execution_count": null,
      "outputs": [
        {
          "output_type": "display_data",
          "data": {
            "image/png": "[encoded data removed]",
            "text/plain": [
              "<Figure size 1440x576 with 1 Axes>"
            ]
          },
          "metadata": {
            "tags": [],
            "needs_background": "light"
          }
        }
      ]
    },
    {
      "cell_type": "markdown",
      "metadata": {
        "id": "U_6HM1b-R9hs"
      },
      "source": [
        "**Cities(Venues) that hosted most number of IPL games**"
      ]
    },
    {
      "cell_type": "code",
      "metadata": {
        "id": "fPPEyilVvHST",
        "colab": {
          "base_uri": "https://localhost:8080/"
        },
        "outputId": "78d549c7-b485-47b7-fec8-81591a694ed5"
      },
      "source": [
        "delivery['city'].unique()"
      ],
      "execution_count": null,
      "outputs": [
        {
          "output_type": "execute_result",
          "data": {
            "text/plain": [
              "array(['Hyderabad', 'Pune', 'Rajkot', 'Indore', 'Bengaluru', 'Mumbai',\n",
              "       'Kolkata', 'Delhi', 'Chandigarh', 'Kanpur', 'Jaipur', 'Chennai',\n",
              "       'Cape Town', 'Port Elizabeth', 'Durban', 'Centurion',\n",
              "       'East London', 'Johannesburg', 'Kimberley', 'Bloemfontein',\n",
              "       'Ahmedabad', 'Cuttack', 'Nagpur', 'Dharamsala', 'Kochi',\n",
              "       'Visakhapatnam', 'Raipur', 'Ranchi', 'Abu Dhabi', 'Sharjah',\n",
              "       'Dubai International Cricket Stadium', 'Mohali'], dtype=object)"
            ]
          },
          "metadata": {
            "tags": []
          },
          "execution_count": 54
        }
      ]
    },
    {
      "cell_type": "code",
      "metadata": {
        "colab": {
          "base_uri": "https://localhost:8080/",
          "height": 513
        },
        "id": "y7bifS3xI7sb",
        "outputId": "8b612248-0f64-4f0f-8ed4-538fda61e6df"
      },
      "source": [
        "fig_dims=(20,8)\r\n",
        "plt.subplots(figsize=fig_dims)\r\n",
        "sns.countplot(y=\"city\", data=delivery, palette=\"Greens_d\",\r\n",
        "              order=delivery.city.value_counts().iloc[:20].index)"
      ],
      "execution_count": null,
      "outputs": [
        {
          "output_type": "execute_result",
          "data": {
            "text/plain": [
              "<matplotlib.axes._subplots.AxesSubplot at 0x7fc4899e7b38>"
            ]
          },
          "metadata": {
            "tags": []
          },
          "execution_count": 55
        },
        {
          "output_type": "display_data",
          "data": {
            "image/png": "[encoded data removed]",
            "text/plain": [
              "<Figure size 1440x576 with 1 Axes>"
            ]
          },
          "metadata": {
            "tags": [],
            "needs_background": "light"
          }
        }
      ]
    },
    {
      "cell_type": "markdown",
      "metadata": {
        "id": "Y2cGB5tBOQys"
      },
      "source": [
        "# Most succesfull Teams"
      ]
    },
    {
      "cell_type": "markdown",
      "metadata": {
        "id": "kFW33fUpYNrL"
      },
      "source": [
        "**wins for each team in IPL history**"
      ]
    },
    {
      "cell_type": "code",
      "metadata": {
        "colab": {
          "base_uri": "https://localhost:8080/"
        },
        "id": "AUYXe-zoYObn",
        "outputId": "81499f0e-1b46-4f60-e274-a891de5cfed0"
      },
      "source": [
        "delivery['winner'].value_counts()"
      ],
      "execution_count": null,
      "outputs": [
        {
          "output_type": "execute_result",
          "data": {
            "text/plain": [
              "Mumbai Indians                 109\n",
              "Chennai Super Kings            100\n",
              "Kolkata Knight Riders           92\n",
              "Royal Challengers Bangalore     84\n",
              "Kings XI Punjab                 82\n",
              "Rajasthan Royals                75\n",
              "Delhi Daredevils                67\n",
              "Sunrisers Hyderabad             58\n",
              "Deccan Chargers                 29\n",
              "Rising Pune Supergiant          15\n",
              "Gujarat Lions                   13\n",
              "Pune Warriors                   12\n",
              "Delhi Capitals                  10\n",
              "Kochi Tuskers Kerala             6\n",
              "no result                        4\n",
              "Name: winner, dtype: int64"
            ]
          },
          "metadata": {
            "tags": []
          },
          "execution_count": 56
        }
      ]
    },
    {
      "cell_type": "markdown",
      "metadata": {
        "id": "n2puWuAtSBAp"
      },
      "source": [
        "**Pie Chart for the percentage of winnings :**"
      ]
    },
    {
      "cell_type": "code",
      "metadata": {
        "id": "WFPYbDxsSApI"
      },
      "source": [
        "ar=delivery['winner'].value_counts().keys()\r\n",
        "list1 = ar.tolist()"
      ],
      "execution_count": null,
      "outputs": []
    },
    {
      "cell_type": "code",
      "metadata": {
        "id": "XA-cdVBQSAVM"
      },
      "source": [
        "ar2=delivery['winner'].value_counts()\r\n",
        "list2 = ar2.tolist()"
      ],
      "execution_count": null,
      "outputs": []
    },
    {
      "cell_type": "code",
      "metadata": {
        "colab": {
          "base_uri": "https://localhost:8080/",
          "height": 866
        },
        "id": "BuAwd9H6MbBg",
        "outputId": "bff89b0b-39b5-43c0-d2bb-c0fb1b996395"
      },
      "source": [
        "px.pie(delivery,values=list2,names=list1,title='Percentage of wins', width=1100 , height=850)"
      ],
      "execution_count": null,
      "outputs": [
        {
          "output_type": "display_data",
          "data": {
            "text/html": [
              "<html>\n",
              "<head><meta charset=\"utf-8\" /></head>\n",
              "<body>\n",
              "    <div>\n",
              "            <script src=\"https://cdnjs.cloudflare.com/ajax/libs/mathjax/2.7.5/MathJax.js?config=TeX-AMS-MML_SVG\"></script><script type=\"text/javascript\">if (window.MathJax) {MathJax.Hub.Config({SVG: {font: \"STIX-Web\"}});}</script>\n",
              "                <script type=\"text/javascript\">window.PlotlyConfig = {MathJaxConfig: 'local'};</script>\n",
              "        <script src=\"https://cdn.plot.ly/plotly-latest.min.js\"></script>    \n",
              "            <div id=\"75e6ba0d-51a6-4b01-829e-4ba3a5c3d371\" class=\"plotly-graph-div\" style=\"height:850px; width:1100px;\"></div>\n",
              "            <script type=\"text/javascript\">\n",
              "                \n",
              "                    window.PLOTLYENV=window.PLOTLYENV || {};\n",
              "                    \n",
              "                if (document.getElementById(\"75e6ba0d-51a6-4b01-829e-4ba3a5c3d371\")) {\n",
              "                    Plotly.newPlot(\n",
              "                        '75e6ba0d-51a6-4b01-829e-4ba3a5c3d371',\n",
              "                        [{\"domain\": {\"x\": [0.0, 1.0], \"y\": [0.0, 1.0]}, \"hoverlabel\": {\"namelength\": 0}, \"hovertemplate\": \"label=%{label}<br>value=%{value}\", \"labels\": [\"Mumbai Indians\", \"Chennai Super Kings\", \"Kolkata Knight Riders\", \"Royal Challengers Bangalore\", \"Kings XI Punjab\", \"Rajasthan Royals\", \"Delhi Daredevils\", \"Sunrisers Hyderabad\", \"Deccan Chargers\", \"Rising Pune Supergiant\", \"Gujarat Lions\", \"Pune Warriors\", \"Delhi Capitals\", \"Kochi Tuskers Kerala\", \"no result\"], \"legendgroup\": \"\", \"name\": \"\", \"showlegend\": true, \"type\": \"pie\", \"values\": [109, 100, 92, 84, 82, 75, 67, 58, 29, 15, 13, 12, 10, 6, 4]}],\n",
              "                        {\"height\": 850, \"legend\": {\"tracegroupgap\": 0}, \"template\": {\"data\": {\"bar\": [{\"error_x\": {\"color\": \"#2a3f5f\"}, \"error_y\": {\"color\": \"#2a3f5f\"}, \"marker\": {\"line\": {\"color\": \"#E5ECF6\", \"width\": 0.5}}, \"type\": \"bar\"}], \"barpolar\": [{\"marker\": {\"line\": {\"color\": \"#E5ECF6\", \"width\": 0.5}}, \"type\": \"barpolar\"}], \"carpet\": [{\"aaxis\": {\"endlinecolor\": \"#2a3f5f\", \"gridcolor\": \"white\", \"linecolor\": \"white\", \"minorgridcolor\": \"white\", \"startlinecolor\": \"#2a3f5f\"}, \"baxis\": {\"endlinecolor\": \"#2a3f5f\", \"gridcolor\": \"white\", \"linecolor\": \"white\", \"minorgridcolor\": \"white\", \"startlinecolor\": \"#2a3f5f\"}, \"type\": \"carpet\"}], \"choropleth\": [{\"colorbar\": {\"outlinewidth\": 0, \"ticks\": \"\"}, \"type\": \"choropleth\"}], \"contour\": [{\"colorbar\": {\"outlinewidth\": 0, \"ticks\": \"\"}, \"colorscale\": [[0.0, \"#0d0887\"], [0.1111111111111111, \"#46039f\"], [0.2222222222222222, \"#7201a8\"], [0.3333333333333333, \"#9c179e\"], [0.4444444444444444, \"#bd3786\"], [0.5555555555555556, \"#d8576b\"], [0.6666666666666666, \"#ed7953\"], [0.7777777777777778, \"#fb9f3a\"], [0.8888888888888888, \"#fdca26\"], [1.0, \"#f0f921\"]], \"type\": \"contour\"}], \"contourcarpet\": [{\"colorbar\": {\"outlinewidth\": 0, \"ticks\": \"\"}, \"type\": \"contourcarpet\"}], \"heatmap\": [{\"colorbar\": {\"outlinewidth\": 0, \"ticks\": \"\"}, \"colorscale\": [[0.0, \"#0d0887\"], [0.1111111111111111, \"#46039f\"], [0.2222222222222222, \"#7201a8\"], [0.3333333333333333, \"#9c179e\"], [0.4444444444444444, \"#bd3786\"], [0.5555555555555556, \"#d8576b\"], [0.6666666666666666, \"#ed7953\"], [0.7777777777777778, \"#fb9f3a\"], [0.8888888888888888, \"#fdca26\"], [1.0, \"#f0f921\"]], \"type\": \"heatmap\"}], \"heatmapgl\": [{\"colorbar\": {\"outlinewidth\": 0, \"ticks\": \"\"}, \"colorscale\": [[0.0, \"#0d0887\"], [0.1111111111111111, \"#46039f\"], [0.2222222222222222, \"#7201a8\"], [0.3333333333333333, \"#9c179e\"], [0.4444444444444444, \"#bd3786\"], [0.5555555555555556, \"#d8576b\"], [0.6666666666666666, \"#ed7953\"], [0.7777777777777778, \"#fb9f3a\"], [0.8888888888888888, \"#fdca26\"], [1.0, \"#f0f921\"]], \"type\": \"heatmapgl\"}], \"histogram\": [{\"marker\": {\"colorbar\": {\"outlinewidth\": 0, \"ticks\": \"\"}}, \"type\": \"histogram\"}], \"histogram2d\": [{\"colorbar\": {\"outlinewidth\": 0, \"ticks\": \"\"}, \"colorscale\": [[0.0, \"#0d0887\"], [0.1111111111111111, \"#46039f\"], [0.2222222222222222, \"#7201a8\"], [0.3333333333333333, \"#9c179e\"], [0.4444444444444444, \"#bd3786\"], [0.5555555555555556, \"#d8576b\"], [0.6666666666666666, \"#ed7953\"], [0.7777777777777778, \"#fb9f3a\"], [0.8888888888888888, \"#fdca26\"], [1.0, \"#f0f921\"]], \"type\": \"histogram2d\"}], \"histogram2dcontour\": [{\"colorbar\": {\"outlinewidth\": 0, \"ticks\": \"\"}, \"colorscale\": [[0.0, \"#0d0887\"], [0.1111111111111111, \"#46039f\"], [0.2222222222222222, \"#7201a8\"], [0.3333333333333333, \"#9c179e\"], [0.4444444444444444, \"#bd3786\"], [0.5555555555555556, \"#d8576b\"], [0.6666666666666666, \"#ed7953\"], [0.7777777777777778, \"#fb9f3a\"], [0.8888888888888888, \"#fdca26\"], [1.0, \"#f0f921\"]], \"type\": \"histogram2dcontour\"}], \"mesh3d\": [{\"colorbar\": {\"outlinewidth\": 0, \"ticks\": \"\"}, \"type\": \"mesh3d\"}], \"parcoords\": [{\"line\": {\"colorbar\": {\"outlinewidth\": 0, \"ticks\": \"\"}}, \"type\": \"parcoords\"}], \"pie\": [{\"automargin\": true, \"type\": \"pie\"}], \"scatter\": [{\"marker\": {\"colorbar\": {\"outlinewidth\": 0, \"ticks\": \"\"}}, \"type\": \"scatter\"}], \"scatter3d\": [{\"line\": {\"colorbar\": {\"outlinewidth\": 0, \"ticks\": \"\"}}, \"marker\": {\"colorbar\": {\"outlinewidth\": 0, \"ticks\": \"\"}}, \"type\": \"scatter3d\"}], \"scattercarpet\": [{\"marker\": {\"colorbar\": {\"outlinewidth\": 0, \"ticks\": \"\"}}, \"type\": \"scattercarpet\"}], \"scattergeo\": [{\"marker\": {\"colorbar\": {\"outlinewidth\": 0, \"ticks\": \"\"}}, \"type\": \"scattergeo\"}], \"scattergl\": [{\"marker\": {\"colorbar\": {\"outlinewidth\": 0, \"ticks\": \"\"}}, \"type\": \"scattergl\"}], \"scattermapbox\": [{\"marker\": {\"colorbar\": {\"outlinewidth\": 0, \"ticks\": \"\"}}, \"type\": \"scattermapbox\"}], \"scatterpolar\": [{\"marker\": {\"colorbar\": {\"outlinewidth\": 0, \"ticks\": \"\"}}, \"type\": \"scatterpolar\"}], \"scatterpolargl\": [{\"marker\": {\"colorbar\": {\"outlinewidth\": 0, \"ticks\": \"\"}}, \"type\": \"scatterpolargl\"}], \"scatterternary\": [{\"marker\": {\"colorbar\": {\"outlinewidth\": 0, \"ticks\": \"\"}}, \"type\": \"scatterternary\"}], \"surface\": [{\"colorbar\": {\"outlinewidth\": 0, \"ticks\": \"\"}, \"colorscale\": [[0.0, \"#0d0887\"], [0.1111111111111111, \"#46039f\"], [0.2222222222222222, \"#7201a8\"], [0.3333333333333333, \"#9c179e\"], [0.4444444444444444, \"#bd3786\"], [0.5555555555555556, \"#d8576b\"], [0.6666666666666666, \"#ed7953\"], [0.7777777777777778, \"#fb9f3a\"], [0.8888888888888888, \"#fdca26\"], [1.0, \"#f0f921\"]], \"type\": \"surface\"}], \"table\": [{\"cells\": {\"fill\": {\"color\": \"#EBF0F8\"}, \"line\": {\"color\": \"white\"}}, \"header\": {\"fill\": {\"color\": \"#C8D4E3\"}, \"line\": {\"color\": \"white\"}}, \"type\": \"table\"}]}, \"layout\": {\"annotationdefaults\": {\"arrowcolor\": \"#2a3f5f\", \"arrowhead\": 0, \"arrowwidth\": 1}, \"coloraxis\": {\"colorbar\": {\"outlinewidth\": 0, \"ticks\": \"\"}}, \"colorscale\": {\"diverging\": [[0, \"#8e0152\"], [0.1, \"#c51b7d\"], [0.2, \"#de77ae\"], [0.3, \"#f1b6da\"], [0.4, \"#fde0ef\"], [0.5, \"#f7f7f7\"], [0.6, \"#e6f5d0\"], [0.7, \"#b8e186\"], [0.8, \"#7fbc41\"], [0.9, \"#4d9221\"], [1, \"#276419\"]], \"sequential\": [[0.0, \"#0d0887\"], [0.1111111111111111, \"#46039f\"], [0.2222222222222222, \"#7201a8\"], [0.3333333333333333, \"#9c179e\"], [0.4444444444444444, \"#bd3786\"], [0.5555555555555556, \"#d8576b\"], [0.6666666666666666, \"#ed7953\"], [0.7777777777777778, \"#fb9f3a\"], [0.8888888888888888, \"#fdca26\"], [1.0, \"#f0f921\"]], \"sequentialminus\": [[0.0, \"#0d0887\"], [0.1111111111111111, \"#46039f\"], [0.2222222222222222, \"#7201a8\"], [0.3333333333333333, \"#9c179e\"], [0.4444444444444444, \"#bd3786\"], [0.5555555555555556, \"#d8576b\"], [0.6666666666666666, \"#ed7953\"], [0.7777777777777778, \"#fb9f3a\"], [0.8888888888888888, \"#fdca26\"], [1.0, \"#f0f921\"]]}, \"colorway\": [\"#636efa\", \"#EF553B\", \"#00cc96\", \"#ab63fa\", \"#FFA15A\", \"#19d3f3\", \"#FF6692\", \"#B6E880\", \"#FF97FF\", \"#FECB52\"], \"font\": {\"color\": \"#2a3f5f\"}, \"geo\": {\"bgcolor\": \"white\", \"lakecolor\": \"white\", \"landcolor\": \"#E5ECF6\", \"showlakes\": true, \"showland\": true, \"subunitcolor\": \"white\"}, \"hoverlabel\": {\"align\": \"left\"}, \"hovermode\": \"closest\", \"mapbox\": {\"style\": \"light\"}, \"paper_bgcolor\": \"white\", \"plot_bgcolor\": \"#E5ECF6\", \"polar\": {\"angularaxis\": {\"gridcolor\": \"white\", \"linecolor\": \"white\", \"ticks\": \"\"}, \"bgcolor\": \"#E5ECF6\", \"radialaxis\": {\"gridcolor\": \"white\", \"linecolor\": \"white\", \"ticks\": \"\"}}, \"scene\": {\"xaxis\": {\"backgroundcolor\": \"#E5ECF6\", \"gridcolor\": \"white\", \"gridwidth\": 2, \"linecolor\": \"white\", \"showbackground\": true, \"ticks\": \"\", \"zerolinecolor\": \"white\"}, \"yaxis\": {\"backgroundcolor\": \"#E5ECF6\", \"gridcolor\": \"white\", \"gridwidth\": 2, \"linecolor\": \"white\", \"showbackground\": true, \"ticks\": \"\", \"zerolinecolor\": \"white\"}, \"zaxis\": {\"backgroundcolor\": \"#E5ECF6\", \"gridcolor\": \"white\", \"gridwidth\": 2, \"linecolor\": \"white\", \"showbackground\": true, \"ticks\": \"\", \"zerolinecolor\": \"white\"}}, \"shapedefaults\": {\"line\": {\"color\": \"#2a3f5f\"}}, \"ternary\": {\"aaxis\": {\"gridcolor\": \"white\", \"linecolor\": \"white\", \"ticks\": \"\"}, \"baxis\": {\"gridcolor\": \"white\", \"linecolor\": \"white\", \"ticks\": \"\"}, \"bgcolor\": \"#E5ECF6\", \"caxis\": {\"gridcolor\": \"white\", \"linecolor\": \"white\", \"ticks\": \"\"}}, \"title\": {\"x\": 0.05}, \"xaxis\": {\"automargin\": true, \"gridcolor\": \"white\", \"linecolor\": \"white\", \"ticks\": \"\", \"title\": {\"standoff\": 15}, \"zerolinecolor\": \"white\", \"zerolinewidth\": 2}, \"yaxis\": {\"automargin\": true, \"gridcolor\": \"white\", \"linecolor\": \"white\", \"ticks\": \"\", \"title\": {\"standoff\": 15}, \"zerolinecolor\": \"white\", \"zerolinewidth\": 2}}}, \"title\": {\"text\": \"Percentage of wins\"}, \"width\": 1100},\n",
              "                        {\"responsive\": true}\n",
              "                    ).then(function(){\n",
              "                            \n",
              "var gd = document.getElementById('75e6ba0d-51a6-4b01-829e-4ba3a5c3d371');\n",
              "var x = new MutationObserver(function (mutations, observer) {{\n",
              "        var display = window.getComputedStyle(gd).display;\n",
              "        if (!display || display === 'none') {{\n",
              "            console.log([gd, 'removed!']);\n",
              "            Plotly.purge(gd);\n",
              "            observer.disconnect();\n",
              "        }}\n",
              "}});\n",
              "\n",
              "// Listen for the removal of the full notebook cells\n",
              "var notebookContainer = gd.closest('#notebook-container');\n",
              "if (notebookContainer) {{\n",
              "    x.observe(notebookContainer, {childList: true});\n",
              "}}\n",
              "\n",
              "// Listen for the clearing of the current output cell\n",
              "var outputEl = gd.closest('.output');\n",
              "if (outputEl) {{\n",
              "    x.observe(outputEl, {childList: true});\n",
              "}}\n",
              "\n",
              "                        })\n",
              "                };\n",
              "                \n",
              "            </script>\n",
              "        </div>\n",
              "</body>\n",
              "</html>"
            ]
          },
          "metadata": {
            "tags": []
          }
        }
      ]
    },
    {
      "cell_type": "markdown",
      "metadata": {
        "id": "j_wLz9mIbf-a"
      },
      "source": [
        "**The most successful teams :**"
      ]
    },
    {
      "cell_type": "code",
      "metadata": {
        "colab": {
          "base_uri": "https://localhost:8080/",
          "height": 646
        },
        "id": "1myGioH9NGLp",
        "outputId": "0c6f04b4-6752-4def-f32f-810359c10f3b"
      },
      "source": [
        "most_no_of_wins = delivery.groupby('winner').apply(lambda x: x).reset_index()\r\n",
        "most_no_of_wins = most_no_of_wins.groupby('winner').count()\r\n",
        "most_no_of_wins = most_no_of_wins.city.reset_index(name='No_Of_Wins')\r\n",
        "most_no_of_wins = most_no_of_wins.sort_values(by='No_Of_Wins',ascending=False)\r\n",
        "fig_dims=(20,8)\r\n",
        "plt.subplots(figsize=fig_dims)\r\n",
        "plt.title(\"Most Number Of Wins\")\r\n",
        "plt.bar(most_no_of_wins.winner , most_no_of_wins.No_Of_Wins)\r\n",
        "plt.xlabel(\"Teams\")\r\n",
        "plt.ylabel(\"No of  Wins\")\r\n",
        "count = 0\r\n",
        "for i in most_no_of_wins.No_Of_Wins:\r\n",
        "    plt.text(count-0.2,i-4,str(i))\r\n",
        "    count+=1\r\n",
        "plt.xticks(rotation = 90)\r\n",
        "plt.yticks()\r\n",
        "plt.show()"
      ],
      "execution_count": null,
      "outputs": [
        {
          "output_type": "display_data",
          "data": {
            "image/png": "[encoded data removed]",
            "text/plain": [
              "<Figure size 1440x576 with 1 Axes>"
            ]
          },
          "metadata": {
            "tags": [],
            "needs_background": "light"
          }
        }
      ]
    },
    {
      "cell_type": "markdown",
      "metadata": {
        "id": "uIQeY1LHOgD2"
      },
      "source": [
        "# Most successfull Players"
      ]
    },
    {
      "cell_type": "markdown",
      "metadata": {
        "id": "FyqoQhgvX9Mw"
      },
      "source": [
        "**Top 15 players based on number of man of matches awarded :**\r\n"
      ]
    },
    {
      "cell_type": "code",
      "metadata": {
        "colab": {
          "base_uri": "https://localhost:8080/"
        },
        "id": "Uc7HokCmX9yA",
        "outputId": "99af00f0-0039-4458-92ae-56612a25e4b2"
      },
      "source": [
        "fig_dims=(20,8)\r\n",
        "plt.subplots(figsize=fig_dims)\r\n",
        "sns.countplot(x=\"player_of_match\", data=delivery, palette=\"rocket\",\r\n",
        "              order=delivery.player_of_match.value_counts().iloc[:15].index)\r\n",
        "plt.show()"
      ],
      "execution_count": null,
      "outputs": [
        {
          "output_type": "display_data",
          "data": {
            "image/png": "[encoded data removed]",
            "text/plain": [
              "<Figure size 1440x576 with 1 Axes>"
            ]
          },
          "metadata": {
            "tags": [],
            "needs_background": "light"
          }
        }
      ]
    },
    {
      "cell_type": "markdown",
      "metadata": {
        "id": "_M-F8Y02WDyC"
      },
      "source": [
        "**The most successfull players of the match :**"
      ]
    },
    {
      "cell_type": "code",
      "metadata": {
        "colab": {
          "base_uri": "https://localhost:8080/"
        },
        "id": "6AiThb2OWjat",
        "outputId": "39bc8941-0e6c-4e1a-cf9d-ae5e72f6e964"
      },
      "source": [
        "df = match[['batsman', 'total_runs']].copy()\r\n",
        "df['total_runs'] = df.groupby('batsman')['total_runs'].transform('sum')\r\n",
        "df = df.drop_duplicates().sort_values('total_runs').tail(25).reset_index(drop=True)\r\n",
        "fig = df.plot(kind='barh', x='batsman', y='total_runs', colormap='flare_r',title ='Highest runs by batsman',figsize = (20,10))\r\n",
        "fig"
      ],
      "execution_count": null,
      "outputs": [
        {
          "output_type": "execute_result",
          "data": {
            "text/plain": [
              "<matplotlib.axes._subplots.AxesSubplot at 0x7fc4877a8c18>"
            ]
          },
          "metadata": {
            "tags": []
          },
          "execution_count": 62
        },
        {
          "output_type": "display_data",
          "data": {
            "image/png": "[encoded data removed]",
            "text/plain": [
              "<Figure size 1440x720 with 1 Axes>"
            ]
          },
          "metadata": {
            "tags": [],
            "needs_background": "light"
          }
        }
      ]
    },
    {
      "cell_type": "markdown",
      "metadata": {
        "id": "HtwAJD48-dsp"
      },
      "source": [
        "**Top bowlers economy**"
      ]
    },
    {
      "cell_type": "code",
      "metadata": {
        "id": "Hxxzku3C-a62",
        "colab": {
          "base_uri": "https://localhost:8080/"
        },
        "outputId": "b3b9ad2a-6758-4201-db3f-fd8866e6fb89"
      },
      "source": [
        "df = match[['bowler', 'total_runs']].copy()\r\n",
        "df['ball_count'] = df.groupby('bowler')['total_runs'].transform('count')\r\n",
        "df['total_runs'] = df.groupby('bowler')['total_runs'].transform('sum')\r\n",
        "df['runs_per_ball'] = df['total_runs'] / df['ball_count']\r\n",
        "df = df.drop_duplicates().reset_index(drop=True).sort_values('runs_per_ball').head(25)\r\n",
        "fig = df.plot(kind='barh', x='bowler', y='runs_per_ball', colormap= 'YlOrBr_r', title ='Bowlers with best economy',figsize = (20,9))\r\n",
        "fig"
      ],
      "execution_count": null,
      "outputs": [
        {
          "output_type": "execute_result",
          "data": {
            "text/plain": [
              "<matplotlib.axes._subplots.AxesSubplot at 0x7fc48780b2e8>"
            ]
          },
          "metadata": {
            "tags": []
          },
          "execution_count": 63
        },
        {
          "output_type": "display_data",
          "data": {
            "image/png": "[encoded data removed]",
            "text/plain": [
              "<Figure size 1440x648 with 1 Axes>"
            ]
          },
          "metadata": {
            "tags": [],
            "needs_background": "light"
          }
        }
      ]
    },
    {
      "cell_type": "markdown",
      "metadata": {
        "id": "NxVUojU21tw7"
      },
      "source": [
        "# Factors contributing win or loss of a team"
      ]
    },
    {
      "cell_type": "markdown",
      "metadata": {
        "id": "slqXP1srsyYW"
      },
      "source": [
        "**lets compare the Toss Decisions**"
      ]
    },
    {
      "cell_type": "code",
      "metadata": {
        "id": "3g7ryQs13Scd",
        "colab": {
          "base_uri": "https://localhost:8080/"
        },
        "outputId": "9e245d02-e3ad-4787-9cb6-e727440ff645"
      },
      "source": [
        "tdc = delivery.groupby('toss_decision').apply(lambda x : x).reset_index()\r\n",
        "tdc = tdc.groupby('toss_decision').count() \r\n",
        "tdc = tdc.city.reset_index(name='Values')\r\n",
        "print(tdc)"
      ],
      "execution_count": null,
      "outputs": [
        {
          "output_type": "stream",
          "text": [
            "  toss_decision  Values\n",
            "0           bat     293\n",
            "1         field     463\n"
          ],
          "name": "stdout"
        }
      ]
    },
    {
      "cell_type": "markdown",
      "metadata": {
        "id": "S3uy6zLDPLJH"
      },
      "source": [
        "**Plotting the Toss Decisions**"
      ]
    },
    {
      "cell_type": "code",
      "metadata": {
        "id": "n2pNmlmhWjHK",
        "colab": {
          "base_uri": "https://localhost:8080/"
        },
        "outputId": "e0008e44-1ad2-4961-ab95-a73b25e7de36"
      },
      "source": [
        "fig_dims=(20,9)\r\n",
        "plt.subplots(figsize=fig_dims)\r\n",
        "sns.countplot(delivery['season'].sort_values(), hue = delivery['toss_decision'], palette = 'PiYG_r')\r\n",
        "plt.title(\"Decision to field or bat across seasons\", fontsize = 20)\r\n",
        "plt.xlabel(\" \")\r\n",
        "plt.ylabel(\" \")\r\n",
        "plt.show()"
      ],
      "execution_count": null,
      "outputs": [
        {
          "output_type": "stream",
          "text": [
            "/usr/local/lib/python3.6/dist-packages/seaborn/_decorators.py:43: FutureWarning:\n",
            "\n",
            "Pass the following variable as a keyword arg: x. From version 0.12, the only valid positional argument will be `data`, and passing other arguments without an explicit keyword will result in an error or misinterpretation.\n",
            "\n"
          ],
          "name": "stderr"
        },
        {
          "output_type": "display_data",
          "data": {
            "image/png": "[encoded data removed]",
            "text/plain": [
              "<Figure size 1440x648 with 1 Axes>"
            ]
          },
          "metadata": {
            "tags": [],
            "needs_background": "light"
          }
        }
      ]
    },
    {
      "cell_type": "markdown",
      "metadata": {
        "id": "Lv8JD-MNtLhU"
      },
      "source": [
        "**Finding out stadium wise most \"WIN BY RUNS\" AND \"WIN BY WICKETS\"**"
      ]
    },
    {
      "cell_type": "markdown",
      "metadata": {
        "id": "FRf6LI-x5sQG"
      },
      "source": [
        "**Stadium wise \"WIN BY RUNS\"**\r\n"
      ]
    },
    {
      "cell_type": "code",
      "metadata": {
        "id": "pNoiLcJD7AQX"
      },
      "source": [
        "max_win_by_runs= []\r\n",
        "eachvenue = delivery['venue'].unique()\r\n",
        "for i in eachvenue :\r\n",
        "    temp_each_venue = delivery.loc[delivery[\"venue\"]==i,[\"venue\",\"win_by_runs\"]]\r\n",
        "    temp_max_win_by_runs = temp_each_venue[\"win_by_runs\"].max()\r\n",
        "    max_win_by_runs.append(temp_max_win_by_runs)\r\n",
        "\r\n",
        "win_by_runs = pd.DataFrame({\"venue\" : eachvenue,\"max win by runs\" : max_win_by_runs}, columns = [\"venue\", \"max win by runs\"]).set_index(\"venue\")"
      ],
      "execution_count": null,
      "outputs": []
    },
    {
      "cell_type": "markdown",
      "metadata": {
        "id": "YyL8lDRfm_Bq"
      },
      "source": [
        "**Stadium wise \"WIN BY WICKETS\"**"
      ]
    },
    {
      "cell_type": "code",
      "metadata": {
        "id": "jdEKTE3VnCCf"
      },
      "source": [
        "max_win_by_wickets = []\r\n",
        "eachvenue = delivery[\"venue\"].unique()\r\n",
        "for i in eachvenue :\r\n",
        "    temp_each_venue = delivery.loc[delivery[\"venue\"]==i,[\"venue\",\"win_by_wickets\"]]\r\n",
        "    temp_max_win_by_wickets = temp_each_venue[\"win_by_wickets\"].max()\r\n",
        "    max_win_by_wickets.append(temp_max_win_by_wickets)\r\n",
        "\r\n",
        "win_by_wickets = pd.DataFrame({\"venue\" : eachvenue,\"max win by wickets\" : max_win_by_wickets}, columns = [\"venue\", \"max win by wickets\"]).set_index(\"venue\")"
      ],
      "execution_count": null,
      "outputs": []
    },
    {
      "cell_type": "markdown",
      "metadata": {
        "id": "IxPYYUB-nZJp"
      },
      "source": [
        "**Merging both the dataframes**"
      ]
    },
    {
      "cell_type": "code",
      "metadata": {
        "id": "2qn5VKhlnd3x",
        "colab": {
          "base_uri": "https://localhost:8080/"
        },
        "outputId": "108826bc-28ec-4ac2-e587-396b93bb2427"
      },
      "source": [
        "combined_each_venue = pd.merge(win_by_runs,win_by_wickets, how=\"outer\", left_index=True, right_index=True)\r\n",
        "combined_each_venue"
      ],
      "execution_count": null,
      "outputs": [
        {
          "output_type": "execute_result",
          "data": {
            "text/html": [
              "<div>\n",
              "<style scoped>\n",
              "    .dataframe tbody tr th:only-of-type {\n",
              "        vertical-align: middle;\n",
              "    }\n",
              "\n",
              "    .dataframe tbody tr th {\n",
              "        vertical-align: top;\n",
              "    }\n",
              "\n",
              "    .dataframe thead th {\n",
              "        text-align: right;\n",
              "    }\n",
              "</style>\n",
              "<table border=\"1\" class=\"dataframe\">\n",
              "  <thead>\n",
              "    <tr style=\"text-align: right;\">\n",
              "      <th></th>\n",
              "      <th>max win by runs</th>\n",
              "      <th>max win by wickets</th>\n",
              "    </tr>\n",
              "    <tr>\n",
              "      <th>venue</th>\n",
              "      <th></th>\n",
              "      <th></th>\n",
              "    </tr>\n",
              "  </thead>\n",
              "  <tbody>\n",
              "    <tr>\n",
              "      <th>Rajiv Gandhi International Stadium</th>\n",
              "      <td>118</td>\n",
              "      <td>9</td>\n",
              "    </tr>\n",
              "    <tr>\n",
              "      <th>Maharashtra Cricket Association Stadium</th>\n",
              "      <td>97</td>\n",
              "      <td>9</td>\n",
              "    </tr>\n",
              "    <tr>\n",
              "      <th>Saurashtra Cricket Association Stadium</th>\n",
              "      <td>26</td>\n",
              "      <td>10</td>\n",
              "    </tr>\n",
              "    <tr>\n",
              "      <th>Holkar Cricket Stadium</th>\n",
              "      <td>31</td>\n",
              "      <td>10</td>\n",
              "    </tr>\n",
              "    <tr>\n",
              "      <th>M. Chinnaswamy Stadium</th>\n",
              "      <td>144</td>\n",
              "      <td>10</td>\n",
              "    </tr>\n",
              "    <tr>\n",
              "      <th>Wankhede Stadium</th>\n",
              "      <td>105</td>\n",
              "      <td>10</td>\n",
              "    </tr>\n",
              "    <tr>\n",
              "      <th>Eden Gardens</th>\n",
              "      <td>102</td>\n",
              "      <td>9</td>\n",
              "    </tr>\n",
              "    <tr>\n",
              "      <th>Feroz Shah Kotla</th>\n",
              "      <td>146</td>\n",
              "      <td>10</td>\n",
              "    </tr>\n",
              "    <tr>\n",
              "      <th>Punjab Cricket Association Stadium</th>\n",
              "      <td>76</td>\n",
              "      <td>10</td>\n",
              "    </tr>\n",
              "    <tr>\n",
              "      <th>Green Park</th>\n",
              "      <td>0</td>\n",
              "      <td>8</td>\n",
              "    </tr>\n",
              "    <tr>\n",
              "      <th>Sawai Mansingh Stadium</th>\n",
              "      <td>87</td>\n",
              "      <td>10</td>\n",
              "    </tr>\n",
              "    <tr>\n",
              "      <th>M.A. Chidambaram Stadium</th>\n",
              "      <td>97</td>\n",
              "      <td>9</td>\n",
              "    </tr>\n",
              "    <tr>\n",
              "      <th>Dr DY Patil Sports Academy</th>\n",
              "      <td>41</td>\n",
              "      <td>10</td>\n",
              "    </tr>\n",
              "    <tr>\n",
              "      <th>Newlands</th>\n",
              "      <td>75</td>\n",
              "      <td>10</td>\n",
              "    </tr>\n",
              "    <tr>\n",
              "      <th>St George's Park</th>\n",
              "      <td>92</td>\n",
              "      <td>7</td>\n",
              "    </tr>\n",
              "    <tr>\n",
              "      <th>Kingsmead</th>\n",
              "      <td>78</td>\n",
              "      <td>9</td>\n",
              "    </tr>\n",
              "    <tr>\n",
              "      <th>SuperSport Park</th>\n",
              "      <td>38</td>\n",
              "      <td>8</td>\n",
              "    </tr>\n",
              "    <tr>\n",
              "      <th>Buffalo Park</th>\n",
              "      <td>78</td>\n",
              "      <td>7</td>\n",
              "    </tr>\n",
              "    <tr>\n",
              "      <th>New Wanderers Stadium</th>\n",
              "      <td>18</td>\n",
              "      <td>9</td>\n",
              "    </tr>\n",
              "    <tr>\n",
              "      <th>De Beers Diamond Oval</th>\n",
              "      <td>53</td>\n",
              "      <td>7</td>\n",
              "    </tr>\n",
              "    <tr>\n",
              "      <th>OUTsurance Oval</th>\n",
              "      <td>14</td>\n",
              "      <td>6</td>\n",
              "    </tr>\n",
              "    <tr>\n",
              "      <th>Brabourne Stadium</th>\n",
              "      <td>63</td>\n",
              "      <td>7</td>\n",
              "    </tr>\n",
              "    <tr>\n",
              "      <th>Sardar Patel Stadium, Motera</th>\n",
              "      <td>62</td>\n",
              "      <td>9</td>\n",
              "    </tr>\n",
              "    <tr>\n",
              "      <th>Barabati Stadium</th>\n",
              "      <td>44</td>\n",
              "      <td>9</td>\n",
              "    </tr>\n",
              "    <tr>\n",
              "      <th>Vidarbha Cricket Association Stadium, Jamtha</th>\n",
              "      <td>13</td>\n",
              "      <td>6</td>\n",
              "    </tr>\n",
              "    <tr>\n",
              "      <th>Himachal Pradesh Cricket Association Stadium</th>\n",
              "      <td>111</td>\n",
              "      <td>6</td>\n",
              "    </tr>\n",
              "    <tr>\n",
              "      <th>Nehru Stadium</th>\n",
              "      <td>55</td>\n",
              "      <td>7</td>\n",
              "    </tr>\n",
              "    <tr>\n",
              "      <th>Dr. Y.S. Rajasekhara Reddy ACA-VDCA Cricket Stadium</th>\n",
              "      <td>85</td>\n",
              "      <td>7</td>\n",
              "    </tr>\n",
              "    <tr>\n",
              "      <th>Subrata Roy Sahara Stadium</th>\n",
              "      <td>46</td>\n",
              "      <td>8</td>\n",
              "    </tr>\n",
              "    <tr>\n",
              "      <th>Shaheed Veer Narayan Singh International Stadium</th>\n",
              "      <td>15</td>\n",
              "      <td>7</td>\n",
              "    </tr>\n",
              "    <tr>\n",
              "      <th>JSCA International Stadium Complex</th>\n",
              "      <td>34</td>\n",
              "      <td>6</td>\n",
              "    </tr>\n",
              "    <tr>\n",
              "      <th>Sheikh Zayed Stadium</th>\n",
              "      <td>93</td>\n",
              "      <td>6</td>\n",
              "    </tr>\n",
              "    <tr>\n",
              "      <th>Sharjah Cricket Stadium</th>\n",
              "      <td>72</td>\n",
              "      <td>8</td>\n",
              "    </tr>\n",
              "    <tr>\n",
              "      <th>Dubai International Cricket Stadium</th>\n",
              "      <td>15</td>\n",
              "      <td>7</td>\n",
              "    </tr>\n",
              "    <tr>\n",
              "      <th>ACA-VDCA Stadium</th>\n",
              "      <td>0</td>\n",
              "      <td>6</td>\n",
              "    </tr>\n",
              "  </tbody>\n",
              "</table>\n",
              "</div>"
            ],
            "text/plain": [
              "                                                    max win by runs  max win by wickets\n",
              "venue                                                                                  \n",
              "Rajiv Gandhi International Stadium                              118                   9\n",
              "Maharashtra Cricket Association Stadium                          97                   9\n",
              "Saurashtra Cricket Association Stadium                           26                  10\n",
              "Holkar Cricket Stadium                                           31                  10\n",
              "M. Chinnaswamy Stadium                                          144                  10\n",
              "Wankhede Stadium                                                105                  10\n",
              "Eden Gardens                                                    102                   9\n",
              "Feroz Shah Kotla                                                146                  10\n",
              "Punjab Cricket Association Stadium                               76                  10\n",
              "Green Park                                                        0                   8\n",
              "Sawai Mansingh Stadium                                           87                  10\n",
              "M.A. Chidambaram Stadium                                         97                   9\n",
              "Dr DY Patil Sports Academy                                       41                  10\n",
              "Newlands                                                         75                  10\n",
              "St George's Park                                                 92                   7\n",
              "Kingsmead                                                        78                   9\n",
              "SuperSport Park                                                  38                   8\n",
              "Buffalo Park                                                     78                   7\n",
              "New Wanderers Stadium                                            18                   9\n",
              "De Beers Diamond Oval                                            53                   7\n",
              "OUTsurance Oval                                                  14                   6\n",
              "Brabourne Stadium                                                63                   7\n",
              "Sardar Patel Stadium, Motera                                     62                   9\n",
              "Barabati Stadium                                                 44                   9\n",
              "Vidarbha Cricket Association Stadium, Jamtha                     13                   6\n",
              "Himachal Pradesh Cricket Association Stadium                    111                   6\n",
              "Nehru Stadium                                                    55                   7\n",
              "Dr. Y.S. Rajasekhara Reddy ACA-VDCA Cricket Sta...               85                   7\n",
              "Subrata Roy Sahara Stadium                                       46                   8\n",
              "Shaheed Veer Narayan Singh International Stadium                 15                   7\n",
              "JSCA International Stadium Complex                               34                   6\n",
              "Sheikh Zayed Stadium                                             93                   6\n",
              "Sharjah Cricket Stadium                                          72                   8\n",
              "Dubai International Cricket Stadium                              15                   7\n",
              "ACA-VDCA Stadium                                                  0                   6"
            ]
          },
          "metadata": {
            "tags": []
          },
          "execution_count": 68
        }
      ]
    },
    {
      "cell_type": "markdown",
      "metadata": {
        "id": "GSVUFrauoBKf"
      },
      "source": [
        "**Bar plotting for WIN-BY-RUNS**"
      ]
    },
    {
      "cell_type": "code",
      "metadata": {
        "id": "aArhdIvRn0y8",
        "colab": {
          "base_uri": "https://localhost:8080/"
        },
        "outputId": "27601394-5477-4030-dfcd-5e14be9ba971"
      },
      "source": [
        "sorted_combined_each_venue = combined_each_venue.sort_values(by=\"max win by runs\", ascending=False)\r\n",
        "plt.figure(figsize=(14,11))\r\n",
        "sns.barplot(sorted_combined_each_venue[\"max win by runs\"],sorted_combined_each_venue.index, palette=\"rocket\")"
      ],
      "execution_count": null,
      "outputs": [
        {
          "output_type": "stream",
          "text": [
            "/usr/local/lib/python3.6/dist-packages/seaborn/_decorators.py:43: FutureWarning:\n",
            "\n",
            "Pass the following variables as keyword args: x, y. From version 0.12, the only valid positional argument will be `data`, and passing other arguments without an explicit keyword will result in an error or misinterpretation.\n",
            "\n"
          ],
          "name": "stderr"
        },
        {
          "output_type": "execute_result",
          "data": {
            "text/plain": [
              "<matplotlib.axes._subplots.AxesSubplot at 0x7fc487776f60>"
            ]
          },
          "metadata": {
            "tags": []
          },
          "execution_count": 69
        },
        {
          "output_type": "display_data",
          "data": {
            "image/png": "[encoded data removed]",
            "text/plain": [
              "<Figure size 1008x792 with 1 Axes>"
            ]
          },
          "metadata": {
            "tags": [],
            "needs_background": "light"
          }
        }
      ]
    },
    {
      "cell_type": "markdown",
      "metadata": {
        "id": "faVwrjlltjuF"
      },
      "source": [
        "**Barh plotting for WIN-BY-WICKETS**"
      ]
    },
    {
      "cell_type": "code",
      "metadata": {
        "id": "jqJVtKTnrdqw",
        "colab": {
          "base_uri": "https://localhost:8080/"
        },
        "outputId": "1a6ce84f-bfd4-4626-8acd-175f5b0bf3e1"
      },
      "source": [
        "sorted_combined_each_venue = combined_each_venue.sort_values(by=\"max win by wickets\", ascending=False)\r\n",
        "plt.figure(figsize=(14,11))\r\n",
        "sns.barplot(sorted_combined_each_venue[\"max win by wickets\"],sorted_combined_each_venue.index, palette=\"rocket\")"
      ],
      "execution_count": null,
      "outputs": [
        {
          "output_type": "stream",
          "text": [
            "/usr/local/lib/python3.6/dist-packages/seaborn/_decorators.py:43: FutureWarning:\n",
            "\n",
            "Pass the following variables as keyword args: x, y. From version 0.12, the only valid positional argument will be `data`, and passing other arguments without an explicit keyword will result in an error or misinterpretation.\n",
            "\n"
          ],
          "name": "stderr"
        },
        {
          "output_type": "execute_result",
          "data": {
            "text/plain": [
              "<matplotlib.axes._subplots.AxesSubplot at 0x7fc487ba9f60>"
            ]
          },
          "metadata": {
            "tags": []
          },
          "execution_count": 70
        },
        {
          "output_type": "display_data",
          "data": {
            "image/png": "[encoded data removed]",
            "text/plain": [
              "<Figure size 1008x792 with 1 Axes>"
            ]
          },
          "metadata": {
            "tags": [],
            "needs_background": "light"
          }
        }
      ]
    },
    {
      "cell_type": "markdown",
      "metadata": {
        "id": "cVcArH8Zr4Z9"
      },
      "source": [
        "#**Suggest Teams or Players a company should endorse for it's product** "
      ]
    },
    {
      "cell_type": "markdown",
      "metadata": {
        "id": "Q-vGGuq-sHHK"
      },
      "source": [
        "**My conclusion :**\r\n",
        ">>>A company can suggest (ChennaiSuperKings or Bangalore)teams to endorse for it's products\r\n",
        " \r\n",
        "**And Players as**\r\n",
        "\r\n",
        "1. Ab De villiams(batsman,man_of_match)\r\n",
        "2. Virat kohli(batsman,man_of_match)\r\n",
        "3. GH Gayle(batsman,man_of_match)\r\n",
        "4. SK Raina(batsman,man_of_match)\r\n",
        "5. SR watson(batsman,man_of_match)\r\n",
        "6. DA Warner(batsman,man_of_match)\r\n",
        "7. Gambhir G(batsman,man_of_match)\r\n",
        "8. DW Stevyn(Best Bowler)\r\n",
        "9. NJ Rimmington(Best Bowler)\r\n",
        "10. J-yadav(Best Bowler)"
      ]
    },
    {
      "cell_type": "code",
      "metadata": {
        "id": "WaYktRPcXhph"
      },
      "source": [
        ""
      ],
      "execution_count": null,
      "outputs": []
    }
  ]
}